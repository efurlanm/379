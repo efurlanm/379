{
 "cells": [
  {
   "cell_type": "markdown",
   "metadata": {
    "colab_type": "text",
    "id": "GznIXM97XwBY"
   },
   "source": [
    "# CAP379 - Topics in Spatial Science\n",
    "\n",
    "**Course project - Group 1**\n",
    "\n",
    "_<small>Last update: 2019-09-01</small>_\n",
    "\n",
    "## Objectives - Part 1\n",
    "\n",
    "* Reproduce and generalize the PythonSQL (AstroML) for SDCC datasets, using Jupyter Notebook\n",
    "  * Observatory Sloan Digital Sky Survey (SDSS)\n",
    "  * Algorithm Fetch SDSS Galaxy Colors\n",
    "* Dataset CDM\n",
    "\n",
    "## Summary\n",
    "![](img/slide-sdss-astroml.jpg)"
   ]
  },
  {
   "cell_type": "markdown",
   "metadata": {
    "colab_type": "text",
    "id": "uHrHybiqaW25"
   },
   "source": [
    "## The telescope Sloan Digital Sky Survey (SDSS)\n",
    "\n",
    "![](img/98_671.300dpi.jpg)\n",
    "*Telescope SDSS, New Mexico, USA. Source: https://classic.sdss.org*\n",
    "\n",
    "The Sloan Digital Sky Survey or SDSS is a major multi-spectral imaging and spectroscopic redshift survey using a dedicated 2.5-m wide-angle optical telescope at Apache Point Observatory in New Mexico, United States. The project was named after the Alfred P. Sloan Foundation, which contributed significant funding.\n",
    "\n",
    "Data collection began in 2000; the final imaging data release (DR9) covers over 35% of the sky, with photometric observations of around nearly 1 billion objects, while the survey continues to acquire spectra, having so far taken spectra of over 4 million objects. The main galaxy sample has a median redshift of z = 0.1; there are redshifts for luminous red galaxies as far as z = 0.7, and for quasars as far as z = 5; and the imaging survey has been involved in the detection of quasars beyond a redshift z = 6.\n",
    "\n",
    "Data release 8 (DR8), released in January 2011, includes all photometric observations taken with the SDSS imaging camera, covering 14,555 square degrees on the sky (just over 35% of the full sky). Data release 9 (DR9), released to the public on 31 July 2012, includes the first results from the Baryon Oscillation Spectroscopic Survey (BOSS) spectrograph, including over 800,000 new spectra. Over 500,000 of the new spectra are of objects in the Universe 7 billion years ago (roughly half the age of the universe).Data release 10 (DR10), released to the public on 31 July 2013, includes all data from previous releases, plus the first results from the APO Galactic Evolution Experiment (APOGEE) spectrograph, including over 57,000 high-resolution infrared spectra of stars in the Milky Way. DR10 also includes over 670,000 new BOSS spectra of galaxies and quasars in the distant universe. The publicly available images from the survey were made between 1998 and 2009.\n",
    "\n",
    "**Data access**\n",
    "\n",
    "The survey makes the data releases available over the Internet. The SkyServer provides a range of interfaces to an underlying Microsoft SQL Server. Both spectra and images are available in this way, and interfaces are made very easy to use so that, for example, a full color image of any region of the sky covered by an SDSS data release can be obtained just by providing the coordinates. The data are available for non-commercial use only, without written permission. The SkyServer also provides a range of tutorials aimed at everyone from schoolchildren up to professional astronomers. The tenth major data release, DR10, released in July 2013, provides images, imaging catalogs, spectra, and redshifts via a variety of search interfaces.\n",
    "\n",
    "The raw data (from before being processed into databases of objects) are also available through another Internet server, and first experienced as a 'fly-through' via the NASA World Wind program.\n",
    "\n",
    "Sky in Google Earth includes data from the SDSS, for those regions where such data are available. There are also KML plugins for SDSS photometry and spectroscopy layers, allowing direct access to SkyServer data from within Google Sky.\n",
    "\n",
    "The data is also available on Hayden Planetarium with a 3D visualizer.\n",
    "\n",
    "There is also the ever-growing list of data for the Stripe 82 region of the SDSS.\n",
    "\n",
    "Following from Technical Fellow Jim Gray's contribution on behalf of Microsoft Research with the SkyServer project, Microsoft's WorldWide Telescope makes use of SDSS and other data sources.\n",
    "\n",
    "MilkyWay@home also used SDSS's data for creating a highly accurate three dimensional model of the Milky Way galaxy.\n",
    "\n",
    "*Source: https://pt.wikipedia.org/wiki/Sloan_Digital_Sky_Survey (adapted)*"
   ]
  },
  {
   "cell_type": "markdown",
   "metadata": {
    "colab_type": "text",
    "id": "GznIXM97XwBY"
   },
   "source": [
    "## AstroML\n",
    "\n",
    "AstroML (Machine Learning and Data Mining for Astronomy) is a Python module for machine learning and data mining built on numpy, scipy, scikit-learn, matplotlib, and astropy. The goal is to provide a community repository for fast Python implementations of common tools and routines used for statistical data analysis in astronomy and astrophysics, to provide a uniform and easy-to-use interface to freely available astronomical datasets.\n",
    "\n",
    "The astroML project was started in 2012 to accompany the book \"Statistics, Data Mining, and Machine Learning in Astronomy\" by Zeljko Ivezic, Andrew Connolly, Jacob VanderPlas, and Alex Gray, published by Princeton University Press (https://press.princeton.edu/titles/10159.html)\n",
    "\n",
    "![](img/livro_capa.png)\n",
    "*Source: www.astroml.org*\n",
    "\n",
    "## Data Sets\n",
    "\n",
    "https://www.astroml.org/user_guide/datasets.html\n",
    "\n",
    "One of the major components of astroML is its tools for downloading and working with astronomical data sets. The available routines are available in the module astroML.datasets.\n",
    "\n",
    "## SDSS Data\n",
    "\n",
    "Much of the data made available by astroML comes from the **Sloan Digital Sky Survey (SDSS)**, a decade-plus photometric and spectroscopic survey at the Apache Point Observatory in New Mexico. The survey obtained photometry for hundreds of millions of stars, quasars, and galaxies, and spectra for several million of these objects. In addition, the second phase of the survey performed repeated imaging over a small portion of the sky, called Stripe 82, enabling the study of the time-variation of many objects.\n",
    "\n",
    "SDSS photometric data are observed through five filters, u, g, r, i, and z. A visualization of the range of these filters is shown below:\n",
    "\n",
    "![](https://www.astroml.org/_images/plot_sdss_filters_11.png)\n",
    "*SDSS photometric data. Source: https://www.astroml.org*\n",
    "\n",
    "## List of datasets\n",
    "\n",
    "https://www.astroml.org/user_guide/datasets.html"
   ]
  },
  {
   "cell_type": "markdown",
   "metadata": {
    "colab_type": "text",
    "id": "EmtEfL7vl245"
   },
   "source": [
    "## Dataset - Python SQL - SDSS Photometry\n",
    "\n",
    "The photometric data can be accessed directly using the *SQL interface* (http://cas.sdss.org/) to the SDSS Catalog Archive Server (CAS). AstroML contains a function which accesses this data directly using a **Python SQL** query tool. The function is called **fetch_sdss_galaxy_colors()** and can be used as a template for making custom data sets available with a simple Python command."
   ]
  },
  {
   "cell_type": "markdown",
   "metadata": {},
   "source": [
    "## http://cas.sdss.org/\n",
    "\n",
    "SkyServer is currently hosting the SDSS's Data Release 15 (DR15).\n",
    "\n",
    "The BestDR15 database can be downloaded as a multi-file SQL Server backup. It is about 6.5 TB in size (compressed) and the uncompressed size of the database is 12+ TB. \n",
    "\n",
    "When complete, the survey data will occupy about 40 terabytes (TB) of image data, and about 3 TB of processed data.\n",
    "\n",
    "![](img/cassdss01.png)\n",
    "![](img/cassdss02.png)\n",
    "![](img/cassdss03.png)\n",
    "![](img/cassdss04.png)\n",
    "FITS is the most commonly used digital file format in astronomy.\n",
    "\n",
    "Finding the meaning of columns. Example:\n",
    "\n",
    "```sql\n",
    "    SELECT TOP 5000\n",
    "        p.u, p.g, p.r, p.i, p.z, s.class, s.z, s.zerr\n",
    "    FROM PhotoObj AS p\n",
    "        JOIN SpecObj AS s ON s.bestobjid = p.objid\n",
    "    WHERE\n",
    "        p.u BETWEEN 0 AND 19.6\n",
    "        AND p.g BETWEEN 0 AND 20\n",
    "        AND s.class <> 'UNKNOWN'\n",
    "        AND s.class <> 'STAR'\n",
    "        AND s.class <> 'SKY'\n",
    "        AND s.class <> 'STAR_LATE'\n",
    "```\n",
    "\n",
    "As example, the PhotoObj database:\n",
    "![](img/cassdss05.png)"
   ]
  },
  {
   "cell_type": "markdown",
   "metadata": {},
   "source": [
    "## Data Set DR15 HARDWARE\n",
    "\n",
    "Hardware needed to support a SDSS Catalog Archive Server (CAS) mirror site:\n",
    "\n",
    "- Separate boxes for Web server and database (DB) server\n",
    "- The DR12 DB servers as well as MyDB servers at JHU (Johns Hopkins University) have the following hardware configuration:\n",
    "    - Intel Xeon 24-core CPU ES-2630v2 (2x12) @2.60GHz 64GB RAM\n",
    "    - Network Adapter: Broadcom bcm5709c netxtreme ii gige\n",
    "    - RAID controllers: Intel C600 SATA\n",
    "    - Disks configured to RAID 5 with 2 logical volumes of 8.2 TB each and 2 dedicated TempDB volumes. Each hard drive is 700GB @10000 RPM.\n",
    "- All MyDB databases are hosted on 2 database servers, one of them being online at any given time.\n",
    "- For our production cluster we have 3-4 db servers per release, so that the public and collab users as well as CasJobs users can be adequately supported, and skyServer, ImgCutout and CasJobs queries can be load-balanced on different boxes. We dedicate one server to ImgCutout queries for multiple releases, since these queries can be quite large in number and intensive.\n",
    "- At any given time, we have 2 or more DB servers in production per release, and the rest are used for testing and data loading purposes. Quick and long queries are pointed to two separate servers. One of the two MyDB servers will be in production and the other one is used for warm backup (MyDBs are bakced up daily to the backup machine).\n",
    "![](img/dr12_hW_config.jpg)\n",
    "*DR12 Hardware configuration at JHU for SDSS Servers*\n",
    "\n",
    "*Source: http://www.skyserver.org/mirrors/hardware.aspx*"
   ]
  },
  {
   "cell_type": "markdown",
   "metadata": {
    "colab_type": "text",
    "id": "jVHzKacQrJ18"
   },
   "source": [
    "## Loading of Datasets: astroML.datasets\n",
    "\n",
    "Astronomy Datasets\n",
    "\n",
    "- fetch_sdss_galaxy_colors :   Loader for SDSS galaxy colors\n",
    "\n",
    "Loader for SDSS galaxy colors.\n",
    "\n",
    "This function directly queries the sdss SQL database at http://cas.sdss.org/\n",
    "\n",
    "Parameters\n",
    "\n",
    "- **data_homeoptional, default=None** : specify another download and cache folder for the datasets. By default all scikit learn data is stored in ‘~/astroML_data’ subfolders.\n",
    "\n",
    "- **download_if_missingoptional, default=True** : if False, raise a IOError if the data is not locally available instead of trying to download the data from the source site.\n",
    "\n",
    "Returns\n",
    "\n",
    "- **datarecarray, shape = (10000,)** : record array containing magnitudes and redshift for each galaxy.\n",
    "\n",
    "## Source code for fetch_sdss_galaxy_colors\n",
    "\n",
    "https://www.astroml.org/_modules/astroML/datasets/sdss_galaxy_colors.html\n"
   ]
  },
  {
   "cell_type": "code",
   "execution_count": 1,
   "metadata": {
    "colab": {
     "base_uri": "https://localhost:8080/",
     "height": 381
    },
    "colab_type": "code",
    "id": "WUGXmse9rH-R",
    "outputId": "9fb71f74-e6f3-4913-b04c-f76f8b69b3a1"
   },
   "outputs": [],
   "source": [
    "# print_function: make print a function\n",
    "# division: change the division operator, // for floor division \n",
    "from __future__ import print_function, division\n",
    "\n",
    "import os\n",
    "import sys\n",
    "import numpy as np\n",
    "import astroML as am\n",
    "from astroML.datasets import get_data_home\n",
    "from astroML.datasets.tools import sql_query\n",
    "\n",
    "NOBJECTS = 50000\n",
    "GAL_COLORS_NAMES = ['u', 'g', 'r', 'i', 'z', 'specClass', 'redshift', 'redshift_err']\n",
    "ARCHIVE_FILE = 'sdss_galaxy_colors.npy'        # local file generated\n",
    "\n",
    "def fetch_sdss_galaxy_colors(data_home=None, download_if_missing=True):\n",
    "    \"\"\"Loader for SDSS galaxy colors.\n",
    "\n",
    "    This function directly queries the sdss SQL database at\n",
    "    http://cas.sdss.org/\n",
    "\n",
    "    Parameters\n",
    "    ----------\n",
    "    data_home : optional, default=None\n",
    "        Specify another download and cache folder for the datasets. By default\n",
    "        all scikit learn data is stored in '~/astroML_data' subfolders.\n",
    "\n",
    "    download_if_missing : optional, default=True\n",
    "        If False, raise a IOError if the data is not locally available\n",
    "        instead of trying to download the data from the source site.\n",
    "\n",
    "    Returns\n",
    "    -------\n",
    "    data : recarray, shape = (10000,)\n",
    "        record array containing magnitudes and redshift for each galaxy\n",
    "    \"\"\"\n",
    "    data_home = get_data_home(data_home)\n",
    "    archive_file = os.path.join(data_home, ARCHIVE_FILE)\n",
    "\n",
    "    query_text = ('\\n'.join((\"SELECT TOP %i\" % NOBJECTS,\n",
    "                             \"  p.u, p.g, p.r, p.i, p.z, s.class, s.z, s.zerr\",\n",
    "                             \"FROM PhotoObj AS p\",\n",
    "                             \"  JOIN SpecObj AS s ON s.bestobjid = p.objid\",\n",
    "                             \"WHERE \",\n",
    "                             \"  p.u BETWEEN 0 AND 19.6\",\n",
    "                             \"  AND p.g BETWEEN 0 AND 20\",\n",
    "                             \"  AND s.class <> 'UNKNOWN'\",\n",
    "                             \"  AND s.class <> 'STAR'\",\n",
    "                             \"  AND s.class <> 'SKY'\",\n",
    "                             \"  AND s.class <> 'STAR_LATE'\")))\n",
    "\n",
    "    if not os.path.exists(archive_file):\n",
    "        if not download_if_missing:\n",
    "            raise IOError('data not present on disk. '\n",
    "                          'set download_if_missing=True to download')\n",
    "\n",
    "        print(\"querying for %i objects\" % NOBJECTS)\n",
    "        print(query_text)\n",
    "        output = sql_query(query_text)\n",
    "        print(\"finished.\")\n",
    "\n",
    "        kwargs = {'delimiter': ',', 'skip_header': 2,\n",
    "                  'names': GAL_COLORS_NAMES, 'dtype': None}\n",
    "\n",
    "        if sys.version_info[0] >= 3:\n",
    "            kwargs['encoding'] = 'ascii'\n",
    "\n",
    "        data = np.genfromtxt(output, **kwargs)\n",
    "        np.save(archive_file, data)\n",
    "\n",
    "    else:\n",
    "        data = np.load(archive_file)\n",
    "\n",
    "    return data"
   ]
  },
  {
   "cell_type": "markdown",
   "metadata": {},
   "source": [
    "## Example - SDSS Galaxy Colors\n",
    "\n",
    "https://www.astroml.org/examples/datasets/plot_sdss_galaxy_colors.html\n",
    "\n",
    "The function **fetch_sdss_galaxy_colors()** used below actually queries the SDSS CASjobs server for the colors of the 50,000 galaxies. Below we extract the u - g and g - r colors for 5000 objects, and scatter-plot the results.\n",
    "\n",
    "Notes:\n",
    "\n",
    "- Quasars are also commonly referred to as **QSO**s (Quasi-Stellar Objects). <small> *Source: https://github.com/astroML/sklearn_tutorial/blob/master/doc/classification.rst* </small>"
   ]
  },
  {
   "cell_type": "code",
   "execution_count": 11,
   "metadata": {
    "scrolled": true
   },
   "outputs": [
    {
     "data": {
      "text/plain": [
       "array([(16.46322, 15.49256, 15.1461 , 15.00817, 14.83415, 'GALAXY', 0.01264066, 5.975708e-06),\n",
       "       (17.03387, 16.15782, 15.87231, 15.75213, 15.62607, 'GALAXY', 0.02204254, 6.689614e-06),\n",
       "       (19.09873, 17.04296, 15.86903, 15.40799, 15.02558, 'GALAXY', 0.1451776 , 1.808849e-05),\n",
       "       ...,\n",
       "       (18.07743, 17.04147, 16.43054, 15.95874, 15.8341 , 'GALAXY', 0.09693461, 9.898653e-06),\n",
       "       (18.87951, 17.82952, 17.49836, 17.28373, 17.14935, 'GALAXY', 0.04736621, 5.943238e-06),\n",
       "       (19.5588 , 18.25152, 17.49388, 17.06487, 16.76407, 'GALAXY', 0.09419622, 8.338608e-06)],\n",
       "      dtype=[('u', '<f8'), ('g', '<f8'), ('r', '<f8'), ('i', '<f8'), ('z', '<f8'), ('specClass', '<U6'), ('redshift', '<f8'), ('redshift_err', '<f8')])"
      ]
     },
     "execution_count": 11,
     "metadata": {},
     "output_type": "execute_result"
    }
   ],
   "source": [
    "# Author: Jake VanderPlas <vanderplas@astro.washington.edu>\n",
    "# License: BSD\n",
    "#   The figure is an example from astroML: see http://astroML.github.com\n",
    "from matplotlib import pyplot as plt\n",
    "from astroML.datasets import fetch_sdss_galaxy_colors\n",
    "\n",
    "#------------------------------------------------------------\n",
    "# Download data\n",
    "data = fetch_sdss_galaxy_colors()  #############\n",
    "data = data[::10]  # truncate for plotting\n",
    "\n",
    "data"
   ]
  },
  {
   "cell_type": "code",
   "execution_count": 12,
   "metadata": {},
   "outputs": [
    {
     "data": {
      "text/plain": [
       "array(['GALAXY', 'GALAXY', 'GALAXY', ..., 'GALAXY', 'GALAXY', 'GALAXY'],\n",
       "      dtype='<U6')"
      ]
     },
     "execution_count": 12,
     "metadata": {},
     "output_type": "execute_result"
    }
   ],
   "source": [
    "# Extract colors and spectral class\n",
    "ug = data['u'] - data['g']\n",
    "gr = data['g'] - data['r']\n",
    "spec_class = data['specClass']\n",
    "\n",
    "spec_class"
   ]
  },
  {
   "cell_type": "code",
   "execution_count": 13,
   "metadata": {},
   "outputs": [
    {
     "data": {
      "text/plain": [
       "array([ True,  True,  True, ...,  True,  True,  True])"
      ]
     },
     "execution_count": 13,
     "metadata": {},
     "output_type": "execute_result"
    }
   ],
   "source": [
    "galaxies = (spec_class == 'GALAXY')\n",
    "\n",
    "galaxies"
   ]
  },
  {
   "cell_type": "code",
   "execution_count": 16,
   "metadata": {},
   "outputs": [
    {
     "data": {
      "text/plain": [
       "array([False, False, False, ..., False, False, False])"
      ]
     },
     "execution_count": 16,
     "metadata": {},
     "output_type": "execute_result"
    }
   ],
   "source": [
    "qsos = (spec_class == 'QSO')\n",
    "\n",
    "qsos"
   ]
  },
  {
   "cell_type": "code",
   "execution_count": 14,
   "metadata": {},
   "outputs": [
    {
     "data": {
      "image/png": "[encoded data removed]",
      "text/plain": [
       "<Figure size 576x576 with 1 Axes>"
      ]
     },
     "metadata": {
      "needs_background": "light"
     },
     "output_type": "display_data"
    }
   ],
   "source": [
    "#------------------------------------------------------------\n",
    "# Prepare plot\n",
    "fig = plt.figure(figsize=(6,8))\n",
    "ax = fig.add_subplot(111)\n",
    "\n",
    "ax.set_xlim(-0.5, 2.5)\n",
    "ax.set_ylim(-0.5, 1.5)\n",
    "\n",
    "ax.plot(ug[galaxies], gr[galaxies], '.', ms=4, c='b', label='galaxies')\n",
    "ax.plot(ug[qsos], gr[qsos], '.', ms=4, c='r', label='qsos')\n",
    "\n",
    "ax.legend(loc=2)\n",
    "\n",
    "ax.set_xlabel('$u-g$')\n",
    "ax.set_ylabel('$g-r$')\n",
    "\n",
    "plt.show()"
   ]
  },
  {
   "cell_type": "markdown",
   "metadata": {
    "colab_type": "text",
    "id": "vrESwpcSsOel"
   },
   "source": [
    "## Lambda CDM\n",
    "\n",
    "\"The ΛCDM (Lambda cold dark matter) or Lambda-CDM model is a parametrization of the Big Bang cosmological model in which the universe contains three major components:\n",
    "- a cosmological constant denoted by Lambda (Greek Λ) and associated with dark energy;\n",
    "- the postulated cold dark matter (abbreviated CDM);\n",
    "- ordinary matter.\n",
    "\n",
    "It is frequently referred to as the standard model of Big Bang cosmology because it is the simplest model that provides a reasonably good account of the properties of the cosmos\". <small> *Source: https://en.wikipedia.org/wiki/Lambda-CDM_model (adapted).* </small>\n",
    "\n",
    "The _Flat Lambda CDM model_ is used in _astroML.datasets.generate_mu_z_ that generate a **dataset of distance modulus vs redshift**:\n",
    "- https://www.astroml.org/modules/generated/astroML.datasets.generate_mu_z.html\n",
    "\n",
    "Generate a dataset of distance modulus vs redshift.\n",
    "\n",
    "Parameters\n",
    "\n",
    "- size : int or tuple = size of generated data\n",
    "- z0 : float = parameter in redshift distribution: p(z) ~ (z / z0)^2 exp[-1.5 (z / z0)]\n",
    "- dmu_0, dmu_1 : float = specify the error in mu, dmu = dmu_0 + dmu_1 * mu\n",
    "- random_state: None, int, or np.random.RandomState instance = random seed or random number generator\n",
    "- cosmo : **astropy**.cosmology instance specifying cosmology = to use when generating the sample. If not provided, a Flat Lambda CDM model (**astropy**) with H0=71, Om0=0.27, Tcmb=0 is used.\n",
    "\n",
    "Returns\n",
    "\n",
    "- z, mu, dmu : ndarrays = arrays of shape 'size'\n",
    "\n",
    "##  Astropy.cosmology\n",
    "\n",
    "https://docs.astropy.org/en/stable/cosmology/\n",
    "\n",
    "Astropy are utilities to extend or substitute existing astronomical data analysis tools on a modern, object-oriented platform. Among the first projects were a replacement of the command language for the Image Reduction and Analysis Facility (IRAF) with a Python frontend, and the PyFITS interface to the Flexible Image Transport System.\n",
    "\n",
    "IRAF (Image Reduction and Analysis Facility) is a collection of software written at the National Optical Astronomy Observatory (NOAO) geared towards the reduction of astronomical images in pixel array form. This is primarily data taken from imaging array detectors such as CCDs."
   ]
  },
  {
   "cell_type": "markdown",
   "metadata": {},
   "source": [
    "## Example - Lambda CDM\n",
    "\n",
    "Figure 8.11 - Cosmology Regression Example\n",
    "\n",
    "A Gaussian process regression analysis of the simulated supernova sample. Uses a squared-exponential covariance model, with bandwidth learned through cross-validation.\n",
    "\n",
    "https://www.astroml.org/book_figures/chapter8/fig_gp_mu_z.html\n",
    "\n",
    "Two datasets are used:\n",
    "\n",
    "- fetch_sdss_galaxy_colors: dataset of colors of the 50,000 galaxies\n",
    "- generate_mu_z: dataset of distance modulus vs redshift (uses Astropy)"
   ]
  },
  {
   "cell_type": "code",
   "execution_count": 17,
   "metadata": {},
   "outputs": [
    {
     "data": {
      "image/png": "[encoded data removed]",
      "text/plain": [
       "<Figure size 432x432 with 1 Axes>"
      ]
     },
     "metadata": {
      "needs_background": "light"
     },
     "output_type": "display_data"
    }
   ],
   "source": [
    "# Author: Jake VanderPlas\n",
    "# License: BSD\n",
    "#   The figure produced by this code is published in the textbook\n",
    "#   \"Statistics, Data Mining, and Machine Learning in Astronomy\" (2013)\n",
    "#   For more information, see http://astroML.github.com\n",
    "#   To report a bug or issue, use the following forum:\n",
    "#    https://groups.google.com/forum/#!forum/astroml-general\n",
    "\n",
    "from __future__ import print_function, division\n",
    "\n",
    "import numpy as np\n",
    "from matplotlib import pyplot as plt\n",
    "from sklearn.gaussian_process.kernels import ConstantKernel, RBF\n",
    "from sklearn.gaussian_process import GaussianProcessRegressor\n",
    "from astropy.cosmology import LambdaCDM\n",
    "\n",
    "import astroML as am\n",
    "from astroML.datasets import fetch_sdss_galaxy_colors\n",
    "from astroML.datasets import generate_mu_z\n",
    "\n",
    "# ----------------------------------------------------------------------\n",
    "# This function adjusts matplotlib settings for a uniform feel in the textbook.\n",
    "# Note that with usetex=True, fonts are rendered with LaTeX.  This may\n",
    "# result in an error if LaTeX is not installed on your system.  In that case,\n",
    "# you can set usetex to False.\n",
    "#if \"setup_text_plots\" not in globals():\n",
    "#    from astroML.plotting import setup_text_plots\n",
    "#setup_text_plots(fontsize=8, usetex=True)\n",
    "\n",
    "# ------------------------------------------------------------\n",
    "# Generate data\n",
    "cosmo = LambdaCDM(H0=71, Om0=0.27, Ode0=0.73, Tcmb0=0)    # Astropy\n",
    "z_sample, mu_sample, dmu = generate_mu_z(100, random_state=0, cosmo=cosmo)\n",
    "\n",
    "z = np.linspace(0.01, 2, 1000)\n",
    "mu_true = cosmo.distmod(z)\n",
    "\n",
    "# ------------------------------------------------------------\n",
    "# fit the data\n",
    "# Mesh the input space for evaluations of the real function,\n",
    "# the prediction and its MSE\n",
    "z_fit = np.linspace(0, 2, 1000)\n",
    "\n",
    "kernel = ConstantKernel(1.0, (1e-3, 1e3)) * RBF(10, (1e-2, 1e2))\n",
    "\n",
    "gp = GaussianProcessRegressor(kernel=kernel, alpha=dmu ** 2)\n",
    "\n",
    "gp.fit(z_sample[:, None], mu_sample)\n",
    "y_pred, sigma = gp.predict(z_fit[:, None], return_std=True)\n",
    "\n",
    "# ------------------------------------------------------------\n",
    "# Plot the gaussian process\n",
    "#  gaussian process allows computation of the error at each point\n",
    "#  so we will show this as a shaded region\n",
    "fig = plt.figure(figsize=(6, 6))\n",
    "fig.subplots_adjust(left=0.1, right=0.95, bottom=0.1, top=0.95)\n",
    "ax = fig.add_subplot(111)\n",
    "\n",
    "ax.plot(z, mu_true, '--k')\n",
    "ax.errorbar(z_sample, mu_sample, dmu, fmt='.k', ecolor='gray', markersize=6)\n",
    "ax.plot(z_fit, y_pred, '-k')\n",
    "ax.fill_between(z_fit, y_pred - 1.96 * sigma, y_pred + 1.96 * sigma,\n",
    "                alpha=0.2, color='b', label='95% confidence interval')\n",
    "\n",
    "ax.set_xlabel('$z$')\n",
    "ax.set_ylabel(r'$\\mu$')\n",
    "\n",
    "ax.set_xlim(0, 2)\n",
    "ax.set_ylim(36, 48)\n",
    "\n",
    "plt.show()"
   ]
  },
  {
   "cell_type": "markdown",
   "metadata": {
    "colab_type": "text",
    "id": "OTpS_b58hnYJ"
   },
   "source": [
    "## References\n",
    "\n",
    "- http://www.astroml.org\n",
    "- https://www.sdss.org\n",
    "- https://en.wikipedia.org/wiki/Lambda-CDM_model\n",
    "- https://www.astropy.org/\n",
    "- http://www.sdss.jhu.edu/"
   ]
  }
 ],
 "metadata": {
  "colab": {
   "collapsed_sections": [],
   "name": "CAP379-Trabalho-Grupo1(Eduardo).ipynb",
   "provenance": [],
   "version": "0.3.2"
  },
  "kernelspec": {
   "display_name": "Python 3",
   "language": "python",
   "name": "python3"
  },
  "language_info": {
   "codemirror_mode": {
    "name": "ipython",
    "version": 3
   },
   "file_extension": ".py",
   "mimetype": "text/x-python",
   "name": "python",
   "nbconvert_exporter": "python",
   "pygments_lexer": "ipython3",
   "version": "3.7.6"
  }
 },
 "nbformat": 4,
 "nbformat_minor": 1
}
